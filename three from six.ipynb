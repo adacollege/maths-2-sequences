{
 "cells": [
  {
   "cell_type": "markdown",
   "metadata": {},
   "source": [
    "## Problem 1\n",
    "Start at $S$. Move from $O$ to $O$ upwards and rightwards only.\n",
    "\n",
    "How many routes are there to $E$?\n",
    "\n",
    "\n",
    "\\begin{array}{|cccc|}\n",
    "\\hline\n",
    "O & O& O& E \\\\\n",
    "O & O& O& O\\\\\n",
    "O & O& O& O\\\\\n",
    "S & O& O& O\\\\\n",
    "\\hline\n",
    "\\end{array}"
   ]
  },
  {
   "cell_type": "markdown",
   "metadata": {},
   "source": [
    "## Problem 2\n",
    "\n",
    "How many numbers, less than 64, have exactly three ones when written in binary?"
   ]
  },
  {
   "cell_type": "markdown",
   "metadata": {},
   "source": [
    "## Problem 3\n",
    "\n",
    "Expand $(x+1)^6$ and find the coefficient of $x^3$"
   ]
  },
  {
   "cell_type": "markdown",
   "metadata": {},
   "source": [
    "## Problem 4\n",
    "\n",
    "*Pascal's Triangle* starts like this\n",
    "\n",
    "\\begin{array}{c|cccccccc}\n",
    "  & C0 & C1 & C2 & C3 & C4 & C5 & C6\\\\\n",
    "  \\hline \\\\\n",
    "R0& 1 & 0 &0&0&0&0&0&\\\\\n",
    "R1& 1 & 1 &0 &0 &0&0&0& \\\\\n",
    "R2& 1 & 2 & 1 &0 &0&0&0& \\\\\n",
    "R3& 1 & 3 & 3 & 1 &0&0&0& \\\\\n",
    "R4& 1 & 4 & 6 & 4 & 1&0&0 \\\\\n",
    "R5& \\\\\n",
    "R6& \n",
    "\\end{array}\n",
    "\n",
    "Continue the pattern and find the number in row $6$, column $3$ (zero-indexed).\n"
   ]
  },
  {
   "cell_type": "markdown",
   "metadata": {},
   "source": [
    "## Problem 5\n",
    "\n",
    "What is the probability of getting three tails from six throws of a fair coin?"
   ]
  },
  {
   "cell_type": "markdown",
   "metadata": {},
   "source": [
    "## Problem 6\n",
    "\n",
    "How many ways are there to choose three of these six problems?\n",
    "\n",
    "What do they have in common? Why?"
   ]
  }
 ],
 "metadata": {
  "kernelspec": {
   "display_name": "Python 3",
   "language": "python",
   "name": "python3"
  },
  "language_info": {
   "codemirror_mode": {
    "name": "ipython",
    "version": 3
   },
   "file_extension": ".py",
   "mimetype": "text/x-python",
   "name": "python",
   "nbconvert_exporter": "python",
   "pygments_lexer": "ipython3",
   "version": "3.8.5"
  }
 },
 "nbformat": 4,
 "nbformat_minor": 2
}
