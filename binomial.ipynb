{
 "cells": [
  {
   "cell_type": "markdown",
   "metadata": {
    "collapsed": true,
    "slideshow": {
     "slide_type": "slide"
    }
   },
   "source": [
    "# Binomial expansion\n",
    "\n",
    "By hand, multiply out the following expressions\n",
    "\n",
    "* $(a+b)^2$\n",
    "* $(a+b)^3$\n",
    "* $(a+b)^4$\n",
    "* $(a+b)^5$"
   ]
  },
  {
   "cell_type": "markdown",
   "metadata": {
    "slideshow": {
     "slide_type": "subslide"
    }
   },
   "source": [
    "Now, drop the $a$s, $b$s, indices and $+$s and just keep the *coefficients*.\n",
    "\n",
    "Like, $(a+b)^2=a^2+2ab+b^2\\rightarrow$ $$1\\,\\,2\\,\\,1$$"
   ]
  },
  {
   "cell_type": "markdown",
   "metadata": {
    "slideshow": {
     "slide_type": "fragment"
    }
   },
   "source": [
    "What about $(a+b)^1$ and $(a+b)^0$?"
   ]
  },
  {
   "cell_type": "markdown",
   "metadata": {
    "slideshow": {
     "slide_type": "subslide"
    }
   },
   "source": [
    "## Pascal's triangle\n",
    "\n",
    "So far we have\n",
    "\n",
    "$1\\\\1\\,1\\\\1\\,2\\,1\\\\1\\,3\\,3\\,1\\\\1\\,4\\,6\\,4\\,1\\\\1\\,5\\,10\\,10\\,5\\,1$\n",
    "\n",
    "What's the next line?"
   ]
  },
  {
   "cell_type": "markdown",
   "metadata": {
    "slideshow": {
     "slide_type": "fragment"
    }
   },
   "source": [
    "$$1\\,6\\,15\\,20\\,15\\,6\\,1$$"
   ]
  },
  {
   "cell_type": "markdown",
   "metadata": {
    "slideshow": {
     "slide_type": "subslide"
    }
   },
   "source": [
    "So what is the expansion of $(a+b)^6$?\n",
    "\n",
    "And $(a+b)^7$?"
   ]
  },
  {
   "cell_type": "markdown",
   "metadata": {
    "slideshow": {
     "slide_type": "subslide"
    }
   },
   "source": [
    "$(a+b)^6=$"
   ]
  },
  {
   "cell_type": "markdown",
   "metadata": {
    "slideshow": {
     "slide_type": "fragment"
    }
   },
   "source": [
    "|$1$|$6$|$15$|$20$|$15$|$6$|$1$|\n",
    "|---|---|---|---|---|---|---|\n",
    "|$a^6$|$a^5$|$a^4$|$a^3$|$a^2$|$a$||\n",
    "||$b$|$b^2$|$b^3$|$b^4$|$b^5$|$b^6$|\n"
   ]
  },
  {
   "cell_type": "markdown",
   "metadata": {
    "slideshow": {
     "slide_type": "fragment"
    }
   },
   "source": [
    "So $(a+b)^6=a^6+6a^5b+15a^4b^2+20a^3b^3+15a^2b^4+6ab^5+b^6$"
   ]
  },
  {
   "cell_type": "markdown",
   "metadata": {
    "slideshow": {
     "slide_type": "subslide"
    }
   },
   "source": [
    "$(a+b)^7=a^7+7a^6b+21a^5b^2+35a^4b^3+35a^3b^4+21a^2b^5+7ab^6+b^7$"
   ]
  },
  {
   "cell_type": "markdown",
   "metadata": {
    "slideshow": {
     "slide_type": "slide"
    }
   },
   "source": [
    "### Example\n",
    "\n",
    "Expand $(2x+3)^5$\n"
   ]
  },
  {
   "cell_type": "markdown",
   "metadata": {
    "slideshow": {
     "slide_type": "notes"
    }
   },
   "source": [
    "\n",
    "First term Second term Third term Fourth term Fifth term Sixth term\n",
    "---------- ----------- ---------- ----------- ---------- ----------\n",
    "$1$        $5$         $10$       $10$        $5$        $1$\n",
    "$(2x)^5$   $(2x)^4$    $(2x)^3$   $(2x)^2$    $2x$       $(2x)^0=1$\n",
    "$3^0=1$    $3$         $3^2$      $3^3$       $3^4$      $3^5$\n",
    " "
   ]
  },
  {
   "cell_type": "markdown",
   "metadata": {
    "slideshow": {
     "slide_type": "subslide"
    }
   },
   "source": [
    "So $(2x+3)^5=(2x)^5+5\\cdot3\\cdot(2x)^4+10\\cdot3^2\\cdot(2x)^3+10\\cdot3^3\\cdot(2x)^2+5\\cdot3^4\\cdot(2x)+3^5$ which you can simplify yourself."
   ]
  },
  {
   "cell_type": "markdown",
   "metadata": {
    "slideshow": {
     "slide_type": "slide"
    }
   },
   "source": [
    "### Example\n",
    "\n",
    "Use Pascal's triangle to expand\n",
    "\n",
    "1. $(a+b)^8$\n",
    "1. $(x+2)^4$\n",
    "1. $(1-3x)^5$"
   ]
  },
  {
   "cell_type": "markdown",
   "metadata": {
    "slideshow": {
     "slide_type": "slide"
    }
   },
   "source": [
    "**Solution**\n",
    "\n",
    "1. $(a+b)^8=a^{8} + 8 a^{7} b + 28 a^{6} b^{2} + 56 a^{5} b^{3} + 70 a^{4} b^{4} + 56 a^{3} b^{5} + 28 a^{2} b^{6} + 8 a b^{7} + b^{8}$\n",
    "1. $(x+2)^4=x^{4} + 8 x^{3} + 24 x^{2} + 32 x + 16$\n",
    "1. $(1-3x)^5=- 243 x^{5} + 405 x^{4} - 270 x^{3} + 90 x^{2} - 15 x + 1$"
   ]
  },
  {
   "cell_type": "markdown",
   "metadata": {
    "slideshow": {
     "slide_type": "subslide"
    }
   },
   "source": [
    "You *could* keep using Pascal's triangle indefinitely but it becomes awkward for bigger indices."
   ]
  },
  {
   "cell_type": "markdown",
   "metadata": {
    "slideshow": {
     "slide_type": "slide"
    }
   },
   "source": [
    "## Combinatorics\n",
    "\n",
    "Think back to how you solved this problem:\n",
    "> How many teams of three can you choose from six players, if the order doesn't matter?"
   ]
  },
  {
   "cell_type": "markdown",
   "metadata": {
    "slideshow": {
     "slide_type": "subslide"
    }
   },
   "source": [
    "You have $6$ choices for the first player, $5$ for the second, and $4$ for the third, so that's $6\\times5\\times4=120$.\n",
    "\n",
    "But that's counting $ABC$ as a different team to $ACB$, so we need to divide by the number of ways of ordering the three players, i.e. $3\\times2\\times1=6$.\n",
    "\n",
    "So to answer the problem, there are $\\dfrac{6\\times5\\times4}{3\\times2\\times1}=20$ teams."
   ]
  },
  {
   "cell_type": "markdown",
   "metadata": {
    "slideshow": {
     "slide_type": "subslide"
    }
   },
   "source": [
    "Fortunately, your calculator can do this working out for you using its $^nC_r$ button.\n",
    "\n",
    "For example, $^6C_3=20$."
   ]
  },
  {
   "cell_type": "markdown",
   "metadata": {
    "slideshow": {
     "slide_type": "slide"
    }
   },
   "source": [
    "### Example\n",
    "\n",
    "Find the coefficient of $a^3b^7$ in $(a+b)^{10}$."
   ]
  },
  {
   "cell_type": "markdown",
   "metadata": {
    "slideshow": {
     "slide_type": "fragment"
    }
   },
   "source": [
    "**Solution**\n",
    "\n",
    "\n",
    "$^{10}C_3=120$\n",
    "\n",
    "Alternatively $^{10}C_7=120$ because of the symmetry in Pascal's triangle.\n",
    "\n",
    "Choosing a team of $7$ from $10$ is the same as choosing the $3$ people who don't get picked."
   ]
  },
  {
   "cell_type": "markdown",
   "metadata": {
    "slideshow": {
     "slide_type": "slide"
    }
   },
   "source": [
    "### Example\n",
    "\n",
    "Find the coefficient of $x^4$ in the expansion of $(2-5x)^6$"
   ]
  },
  {
   "cell_type": "markdown",
   "metadata": {
    "slideshow": {
     "slide_type": "fragment"
    }
   },
   "source": [
    "**Solution**\n",
    "\n",
    "\n",
    "The complete term would be $\\color{blue}{^6C_4}\\cdot\\color{green}{(2)^2}\\cdot\\color{purple}{(-5x)^4}$\n",
    "\n",
    "That simplifies to $\\color{blue}{15}\\cdot\\color{green}{4}\\cdot\\color{purple}{625x^4}$$=37500x^4$, so the coefficient of $x^4$ is $37500$"
   ]
  },
  {
   "cell_type": "markdown",
   "metadata": {
    "slideshow": {
     "slide_type": "slide"
    }
   },
   "source": [
    "### Example\n",
    "\n",
    "Find the first four terms, in ascending powers of $x$ in the expansion of $\\left(\\frac{x}{2}-\\frac{2}{3}\\right)^7$"
   ]
  },
  {
   "cell_type": "markdown",
   "metadata": {
    "slideshow": {
     "slide_type": "fragment"
    }
   },
   "source": [
    "|First term|Second|Third|Fourth|\n",
    "|---|---|---|---|\n",
    "|$^7C_0$|$^7C_1$|$^7C_2$|$^7C_3$|\n",
    "|$\\left(\\frac{x}{2}\\right)^0$|$\\left(\\frac{x}{2}\\right)^1$|$\\left(\\frac{x}{2}\\right)^2$|$\\left(\\frac{x}{2}\\right)^3$|\n",
    "|$\\left(-\\frac{2}{3}\\right)^7$|$\\left(-\\frac{2}{3}\\right)^6$|$\\left(-\\frac{2}{3}\\right)^5$|$\\left(-\\frac{2}{3}\\right)^4$|"
   ]
  },
  {
   "cell_type": "markdown",
   "metadata": {
    "slideshow": {
     "slide_type": "fragment"
    }
   },
   "source": [
    "Which eventually simplifies to $$-\\frac{128}{2187}+ \\frac{224 x}{729} - \\frac{56 x^{2}}{81} + \\frac{70 x^{3}}{81}$$"
   ]
  }
 ],
 "metadata": {
  "celltoolbar": "Slideshow",
  "hide_input": false,
  "kernelspec": {
   "display_name": "Python 3",
   "language": "python",
   "name": "python3"
  },
  "language_info": {
   "codemirror_mode": {
    "name": "ipython",
    "version": 3
   },
   "file_extension": ".py",
   "mimetype": "text/x-python",
   "name": "python",
   "nbconvert_exporter": "python",
   "pygments_lexer": "ipython3",
   "version": "3.8.0"
  },
  "livereveal": {
   "theme": "ada"
  }
 },
 "nbformat": 4,
 "nbformat_minor": 1
}
